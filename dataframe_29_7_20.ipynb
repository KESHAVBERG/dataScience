{
  "nbformat": 4,
  "nbformat_minor": 0,
  "metadata": {
    "colab": {
      "name": "dataframe_29/7/20.ipynb",
      "provenance": [],
      "collapsed_sections": []
    },
    "kernelspec": {
      "name": "python3",
      "display_name": "Python 3"
    }
  },
  "cells": [
    {
      "cell_type": "code",
      "metadata": {
        "id": "-Pyv_y8n1qCW",
        "colab_type": "code",
        "colab": {}
      },
      "source": [
        "import numpy as np \n",
        "import pandas as pd\n",
        "import matplotlib.pyplot as plt\n"
      ],
      "execution_count": null,
      "outputs": []
    },
    {
      "cell_type": "markdown",
      "metadata": {
        "id": "8NVGqTQd16rt",
        "colab_type": "text"
      },
      "source": [
        "## createing dataframe"
      ]
    },
    {
      "cell_type": "code",
      "metadata": {
        "id": "8TUi34Bh14zT",
        "colab_type": "code",
        "colab": {}
      },
      "source": [
        "arr = np.random.randint(0,10,(5,3))"
      ],
      "execution_count": null,
      "outputs": []
    },
    {
      "cell_type": "code",
      "metadata": {
        "id": "4tbRhKkQ2D7Y",
        "colab_type": "code",
        "colab": {}
      },
      "source": [
        "arr"
      ],
      "execution_count": null,
      "outputs": []
    },
    {
      "cell_type": "code",
      "metadata": {
        "id": "mtow82AS2Eoo",
        "colab_type": "code",
        "colab": {}
      },
      "source": [
        "df = pd.DataFrame(arr)"
      ],
      "execution_count": null,
      "outputs": []
    },
    {
      "cell_type": "code",
      "metadata": {
        "id": "cYcOIohi2UGw",
        "colab_type": "code",
        "colab": {}
      },
      "source": [
        "df"
      ],
      "execution_count": null,
      "outputs": []
    },
    {
      "cell_type": "code",
      "metadata": {
        "id": "33oiqRR32Uqg",
        "colab_type": "code",
        "colab": {}
      },
      "source": [
        "df.index = [\"R1\",\"R2\",\"R3\",\"R4\",\"R5\",]"
      ],
      "execution_count": null,
      "outputs": []
    },
    {
      "cell_type": "code",
      "metadata": {
        "id": "FmQPO7WK2ZgQ",
        "colab_type": "code",
        "colab": {}
      },
      "source": [
        "df.columns = [\"C1\",\"C2\",\"C3\"]"
      ],
      "execution_count": null,
      "outputs": []
    },
    {
      "cell_type": "code",
      "metadata": {
        "id": "5J_xqB-a4a4M",
        "colab_type": "code",
        "colab": {}
      },
      "source": [
        "df"
      ],
      "execution_count": null,
      "outputs": []
    },
    {
      "cell_type": "code",
      "metadata": {
        "id": "S73vCqCv4jNg",
        "colab_type": "code",
        "colab": {}
      },
      "source": [
        "df.iloc[2,1]"
      ],
      "execution_count": null,
      "outputs": []
    },
    {
      "cell_type": "code",
      "metadata": {
        "id": "nX3tbtnZ4oRo",
        "colab_type": "code",
        "colab": {}
      },
      "source": [
        "df.loc[\"R3\" , \"C1\"]"
      ],
      "execution_count": null,
      "outputs": []
    },
    {
      "cell_type": "code",
      "metadata": {
        "id": "jjKCLIcU49j4",
        "colab_type": "code",
        "colab": {}
      },
      "source": [
        "df.loc[\"R1\":\"R3\"]"
      ],
      "execution_count": null,
      "outputs": []
    },
    {
      "cell_type": "code",
      "metadata": {
        "id": "iMBzdafuArtv",
        "colab_type": "code",
        "colab": {}
      },
      "source": [
        "df.loc[\"R1\":\"R3\" , \"C1\":\"C2\"]"
      ],
      "execution_count": null,
      "outputs": []
    },
    {
      "cell_type": "code",
      "metadata": {
        "id": "txJcVWiEAwo2",
        "colab_type": "code",
        "colab": {}
      },
      "source": [
        "df.iloc[0]"
      ],
      "execution_count": null,
      "outputs": []
    },
    {
      "cell_type": "code",
      "metadata": {
        "id": "cSjneT60A3UO",
        "colab_type": "code",
        "colab": {}
      },
      "source": [
        "df.iloc[:,0]"
      ],
      "execution_count": null,
      "outputs": []
    },
    {
      "cell_type": "markdown",
      "metadata": {
        "id": "cVJuHFTu0G6T",
        "colab_type": "text"
      },
      "source": [
        "**task 1**\n",
        "creating a func for creating a dataframe object"
      ]
    },
    {
      "cell_type": "code",
      "metadata": {
        "id": "lHTxQoWABq3v",
        "colab_type": "code",
        "colab": {}
      },
      "source": [
        "def create_df(nRows , nColums,nItems):\n",
        "  arr = np.random.randint(0,nItems , (nRows , nColums))\n",
        "  df = pd.DataFrame(arr)\n",
        "  df.index = [\"R\"+str(x) for x in range(1,nRows+1)]\n",
        "  df.colums = [\"C\" + str(x) for x in range(1,nColums+1)]\n",
        "  return df"
      ],
      "execution_count": null,
      "outputs": []
    },
    {
      "cell_type": "code",
      "metadata": {
        "id": "BWcbVhxm1AA7",
        "colab_type": "code",
        "colab": {}
      },
      "source": [
        "create_df(5,3,10)"
      ],
      "execution_count": null,
      "outputs": []
    },
    {
      "cell_type": "code",
      "metadata": {
        "id": "NzjZVTua1CaP",
        "colab_type": "code",
        "colab": {}
      },
      "source": [
        "     mass = pd.Series([5.97,1.02, 8.68,5.68,6.39,4.86,3.28,1.89],\n",
        "                 index = [\"earth\" , \"neptune\",\"uranus\" , \"satan\" , \"mars\",\"venus\",\"mercury\",\"jupiter\"])"
      ],
      "execution_count": null,
      "outputs": []
    },
    {
      "cell_type": "code",
      "metadata": {
        "id": "ypOs-_If2Z4p",
        "colab_type": "code",
        "colab": {}
      },
      "source": [
        "radius = pd.Series([6378.1,24764,25559,60268,3396.2,6051.8,2439.7,71492],\n",
        "                 index = [\"earth\" , \"neptune\",\"uranus\" , \"satan\" , \"mars\",\"venus\",\"mercury\",\"jupiter\"])"
      ],
      "execution_count": null,
      "outputs": []
    },
    {
      "cell_type": "code",
      "metadata": {
        "id": "XIJwy4O_2ctQ",
        "colab_type": "code",
        "colab": {}
      },
      "source": [
        "radius[\"planetX\"] = 4"
      ],
      "execution_count": null,
      "outputs": []
    },
    {
      "cell_type": "code",
      "metadata": {
        "id": "WxPSJkw23gqY",
        "colab_type": "code",
        "colab": {}
      },
      "source": [
        "radius"
      ],
      "execution_count": null,
      "outputs": []
    },
    {
      "cell_type": "code",
      "metadata": {
        "id": "bqS5iSWooDCM",
        "colab_type": "code",
        "colab": {}
      },
      "source": [
        "df = pd.DataFrame({\"mass\":mass,\"radius\":radius})"
      ],
      "execution_count": null,
      "outputs": []
    },
    {
      "cell_type": "code",
      "metadata": {
        "id": "aPvvcutddqLq",
        "colab_type": "code",
        "colab": {}
      },
      "source": [
        "df.loc[\"mean\"] = [np.mean(mass),np.mean(radius)]"
      ],
      "execution_count": null,
      "outputs": []
    },
    {
      "cell_type": "code",
      "metadata": {
        "id": "5_lSS5ZreOea",
        "colab_type": "code",
        "colab": {}
      },
      "source": [
        "df.loc[\"earth\"]"
      ],
      "execution_count": null,
      "outputs": []
    },
    {
      "cell_type": "code",
      "metadata": {
        "id": "esBd4L2AkKUM",
        "colab_type": "code",
        "colab": {}
      },
      "source": [
        "df.loc[:,\"mass\"]"
      ],
      "execution_count": null,
      "outputs": []
    },
    {
      "cell_type": "code",
      "metadata": {
        "id": "N-aRuyOBkNeI",
        "colab_type": "code",
        "colab": {}
      },
      "source": [
        "np.mean(df[\"radius\"])"
      ],
      "execution_count": null,
      "outputs": []
    },
    {
      "cell_type": "code",
      "metadata": {
        "id": "9QmXnjwsrHm-",
        "colab_type": "code",
        "colab": {}
      },
      "source": [
        "df.loc[\"new_mean\"] = df.mean()"
      ],
      "execution_count": null,
      "outputs": []
    },
    {
      "cell_type": "code",
      "metadata": {
        "id": "k2tT6w5srIP-",
        "colab_type": "code",
        "colab": {}
      },
      "source": [
        "df"
      ],
      "execution_count": null,
      "outputs": []
    },
    {
      "cell_type": "code",
      "metadata": {
        "id": "yw6IJVogrrh3",
        "colab_type": "code",
        "colab": {}
      },
      "source": [
        "for i in df.index:\n",
        "  \n",
        "  if i == \"earth\":\n",
        "    add = np.mean(df[\"mass\"]) + np.mean(df[\"radius\"])\n",
        "    print(add)"
      ],
      "execution_count": null,
      "outputs": []
    },
    {
      "cell_type": "code",
      "metadata": {
        "id": "F27IvgytrxM_",
        "colab_type": "code",
        "colab": {}
      },
      "source": [
        "for i in df.index:\n",
        "  mean = np.mean(df.loc[i])\n",
        "  print(i ,\"  \",mean)"
      ],
      "execution_count": null,
      "outputs": []
    },
    {
      "cell_type": "code",
      "metadata": {
        "id": "LHdUFr1esyEu",
        "colab_type": "code",
        "colab": {}
      },
      "source": [
        "df.mean(axis=1)"
      ],
      "execution_count": null,
      "outputs": []
    },
    {
      "cell_type": "code",
      "metadata": {
        "id": "csEcCIW3s4YC",
        "colab_type": "code",
        "colab": {}
      },
      "source": [
        "df[\"row_mean\"] = df.mean(axis=1)"
      ],
      "execution_count": null,
      "outputs": []
    },
    {
      "cell_type": "code",
      "metadata": {
        "id": "fKyupZXWtK--",
        "colab_type": "code",
        "colab": {}
      },
      "source": [
        "df"
      ],
      "execution_count": null,
      "outputs": []
    },
    {
      "cell_type": "code",
      "metadata": {
        "id": "SAZkHRuHtLem",
        "colab_type": "code",
        "colab": {}
      },
      "source": [
        "df.describe()"
      ],
      "execution_count": null,
      "outputs": []
    },
    {
      "cell_type": "markdown",
      "metadata": {
        "id": "0QLJuI73vwsl",
        "colab_type": "text"
      },
      "source": [
        "## task"
      ]
    },
    {
      "cell_type": "code",
      "metadata": {
        "id": "ZbIl0eP0vv1n",
        "colab_type": "code",
        "colab": {}
      },
      "source": [
        "import seaborn as sns"
      ],
      "execution_count": null,
      "outputs": []
    },
    {
      "cell_type": "code",
      "metadata": {
        "id": "nsW-rRVWunLf",
        "colab_type": "code",
        "colab": {}
      },
      "source": [
        "sns.get_data_home()"
      ],
      "execution_count": null,
      "outputs": []
    },
    {
      "cell_type": "code",
      "metadata": {
        "id": "7qne-M9av3S1",
        "colab_type": "code",
        "colab": {}
      },
      "source": [
        "df = sns.load_dataset(\"planets\")"
      ],
      "execution_count": null,
      "outputs": []
    },
    {
      "cell_type": "code",
      "metadata": {
        "id": "VDW_XO-gF55W",
        "colab_type": "code",
        "colab": {}
      },
      "source": [
        "dfwn = sns.load_dataset(\"planets\") "
      ],
      "execution_count": null,
      "outputs": []
    },
    {
      "cell_type": "code",
      "metadata": {
        "id": "5rsj_BDVwFjG",
        "colab_type": "code",
        "colab": {}
      },
      "source": [
        "df"
      ],
      "execution_count": null,
      "outputs": []
    },
    {
      "cell_type": "code",
      "metadata": {
        "id": "onQTLIMqqT98",
        "colab_type": "code",
        "colab": {}
      },
      "source": [
        "df.describe()"
      ],
      "execution_count": null,
      "outputs": []
    },
    {
      "cell_type": "code",
      "metadata": {
        "id": "gaZU0zkDqhwq",
        "colab_type": "code",
        "colab": {}
      },
      "source": [
        "df.describe()"
      ],
      "execution_count": null,
      "outputs": []
    },
    {
      "cell_type": "code",
      "metadata": {
        "id": "_MzJHlK1qk_y",
        "colab_type": "code",
        "colab": {}
      },
      "source": [
        "mass = df[\"mass\"]"
      ],
      "execution_count": null,
      "outputs": []
    },
    {
      "cell_type": "code",
      "metadata": {
        "id": "YsjIqGw5qw4U",
        "colab_type": "code",
        "colab": {}
      },
      "source": [
        "distance = df[\"distance\"] "
      ],
      "execution_count": null,
      "outputs": []
    },
    {
      "cell_type": "code",
      "metadata": {
        "id": "mFw_whGItVyT",
        "colab_type": "code",
        "colab": {}
      },
      "source": [
        "nonZmass = []"
      ],
      "execution_count": null,
      "outputs": []
    },
    {
      "cell_type": "code",
      "metadata": {
        "id": "UCpKDJFCtKUz",
        "colab_type": "code",
        "colab": {}
      },
      "source": [
        "for i in mass.values:\n",
        "  if i!= 0 or i >0 :\n",
        "    nonZmass.append(i)\n"
      ],
      "execution_count": null,
      "outputs": []
    },
    {
      "cell_type": "code",
      "metadata": {
        "id": "5zh4urEytZ6C",
        "colab_type": "code",
        "colab": {}
      },
      "source": [
        "nonZmass"
      ],
      "execution_count": null,
      "outputs": []
    },
    {
      "cell_type": "code",
      "metadata": {
        "id": "jlC4wCV0tcLS",
        "colab_type": "code",
        "colab": {}
      },
      "source": [
        "G = 6.67 * 10**-11"
      ],
      "execution_count": null,
      "outputs": []
    },
    {
      "cell_type": "code",
      "metadata": {
        "id": "gTA_Hp89ynBR",
        "colab_type": "code",
        "colab": {}
      },
      "source": [
        "top = G*np.product(nonZmass)"
      ],
      "execution_count": null,
      "outputs": []
    },
    {
      "cell_type": "code",
      "metadata": {
        "id": "FS4fWciTy4Up",
        "colab_type": "code",
        "colab": {}
      },
      "source": [
        "r = np.product(distance)"
      ],
      "execution_count": null,
      "outputs": []
    },
    {
      "cell_type": "code",
      "metadata": {
        "id": "KMmI1dxwy_v5",
        "colab_type": "code",
        "colab": {}
      },
      "source": [
        "for i in distance.values:\n",
        "  f = top/i\n",
        "  if f != \"inf\":\n",
        "    print(f)\n",
        "    break"
      ],
      "execution_count": null,
      "outputs": []
    },
    {
      "cell_type": "markdown",
      "metadata": {
        "id": "Nit7Sz8-4VQ4",
        "colab_type": "text"
      },
      "source": [
        "Going through the coloums and droing the null values"
      ]
    },
    {
      "cell_type": "code",
      "metadata": {
        "id": "MErG-pZk4KWF",
        "colab_type": "code",
        "colab": {}
      },
      "source": [
        "for r in df.index:\n",
        "  for c in df.columns:\n",
        "    if pd.isnull(df.loc[r,c]):\n",
        "      df.drop(r,inplace=True)\n",
        "      break\n",
        "  "
      ],
      "execution_count": null,
      "outputs": []
    },
    {
      "cell_type": "code",
      "metadata": {
        "id": "qDlz17Kf4KJH",
        "colab_type": "code",
        "colab": {}
      },
      "source": [
        "df.describe()"
      ],
      "execution_count": null,
      "outputs": []
    },
    {
      "cell_type": "code",
      "metadata": {
        "id": "xRrUhlN-4J5q",
        "colab_type": "code",
        "colab": {}
      },
      "source": [
        "for i,r in df.iterrows():\n",
        "  if pd.isnull(r).any():\n",
        "    df.drop(i,inplace=True)"
      ],
      "execution_count": null,
      "outputs": []
    },
    {
      "cell_type": "code",
      "metadata": {
        "id": "d9pOMT9CwkE9",
        "colab_type": "code",
        "colab": {}
      },
      "source": [
        "df"
      ],
      "execution_count": null,
      "outputs": []
    },
    {
      "cell_type": "code",
      "metadata": {
        "id": "fVY-ovrtyWI8",
        "colab_type": "code",
        "colab": {}
      },
      "source": [
        "df.dropna(inplace=True)"
      ],
      "execution_count": null,
      "outputs": []
    },
    {
      "cell_type": "code",
      "metadata": {
        "id": "B7qe2h5406NE",
        "colab_type": "code",
        "colab": {}
      },
      "source": [
        "df"
      ],
      "execution_count": null,
      "outputs": []
    },
    {
      "cell_type": "markdown",
      "metadata": {
        "id": "aCzUrJKd1b63",
        "colab_type": "text"
      },
      "source": [
        "filter and show those rowa which have planets that are found in 2010s and method is \"radial velocity\" and \"transit\" and distance is larger than 75 percentile"
      ]
    },
    {
      "cell_type": "code",
      "metadata": {
        "id": "pSIU4f0B-xfu",
        "colab_type": "code",
        "colab": {}
      },
      "source": [
        "df_ = df.copy()\n",
        "prt_75 = df_.distance.quantile(0.75)"
      ],
      "execution_count": null,
      "outputs": []
    },
    {
      "cell_type": "code",
      "metadata": {
        "id": "nhGUU4mw5nel",
        "colab_type": "code",
        "colab": {}
      },
      "source": [
        "for i,r in df.iterrows():\n",
        "  if r['year']<2010:\n",
        "    df_.drop(i , inplace=True)\n",
        "    continue\n",
        "  if (r['method'] !='Radial Velocity') and (r['method']!='Transit'):\n",
        "    df_.drop(i , inplace=True)\n",
        "    continue\n",
        "  if r['distance']< prt_75:\n",
        "    df_.drop(i,inplace=True)  \n",
        "    continue   "
      ],
      "execution_count": null,
      "outputs": []
    },
    {
      "cell_type": "code",
      "metadata": {
        "id": "m9IhB-gp6YQU",
        "colab_type": "code",
        "colab": {}
      },
      "source": [
        "df_.describe()"
      ],
      "execution_count": null,
      "outputs": []
    },
    {
      "cell_type": "code",
      "metadata": {
        "id": "i_WcTptP67bP",
        "colab_type": "code",
        "colab": {}
      },
      "source": [
        "d = df.copy() "
      ],
      "execution_count": null,
      "outputs": []
    },
    {
      "cell_type": "code",
      "metadata": {
        "id": "5VgfZ2GB7Tp3",
        "colab_type": "code",
        "colab": {}
      },
      "source": [
        "filter_d = d[\n",
        " ( d['year']>2010)&\n",
        "  ((d['method']=='Transit')| (d['method']=='Radial Velocity'))&\n",
        "  (d['distance']>prt_75)\n",
        "]"
      ],
      "execution_count": null,
      "outputs": []
    },
    {
      "cell_type": "code",
      "metadata": {
        "id": "MskJad3n91Tq",
        "colab_type": "code",
        "colab": {}
      },
      "source": [
        "filter_d"
      ],
      "execution_count": null,
      "outputs": []
    },
    {
      "cell_type": "code",
      "metadata": {
        "id": "jfvw44TKApAG",
        "colab_type": "code",
        "colab": {}
      },
      "source": [
        "g = dfwn.copy()"
      ],
      "execution_count": null,
      "outputs": []
    },
    {
      "cell_type": "code",
      "metadata": {
        "id": "Vl7nBZUACyne",
        "colab_type": "code",
        "colab": {}
      },
      "source": [
        "for i  ,r in g.iterrows():\n",
        "  if r['method'] =='Transit':\n",
        "    g.replace(r['method'],value='T' , inplace=True)\n",
        "    continue\n",
        "  if r['method'] == 'Radial Velocity':\n",
        "    g.replace(r['method'] , value= 'RV',inplace=True)\n",
        "    continue  \n",
        "  if r['method'] == 'Imaging':\n",
        "    g.replace(r['method'] , value= 'I',inplace=True)\n",
        "    continue  \n",
        "  if r['method'] == 'Eclipse Timing Variations':\n",
        "    g.replace(r['method'] , value= 'ETV',inplace=True)\n",
        "    continue  \n",
        "  if r['method'] == 'Astrometry':\n",
        "    g.replace(r['method'] , value= 'A',inplace=True)\n",
        "    continue  \n",
        "  if r['method'] == 'Transit Timing Variations':\n",
        "    g.replace(r['method'] , value= 'TTV',inplace=True)\n",
        "    continue  \n",
        "  if r['method'] == 'Orbital Brightness Modulations':\n",
        "    \n",
        "    \n",
        "    g.replace(r['method'] , value= 'OBM',inplace=True)\n",
        "    continue \n",
        "  if r['method'] == 'Microlensing':\n",
        "    g.replace(r['method'] , value= 'M',inplace=True)\n",
        "    continue \n",
        "  if r['method'] == 'Pulsar Timing':\n",
        "    g.replace(r['method'] , value= 'PT',inplace=True)\n",
        "    continue \n",
        "  if r['method'] == 'Pulsation Timing Variations':\n",
        "    g.replace(r['method'] , value= 'PTV',inplace=True)\n",
        "    continue \n",
        "\n"
      ],
      "execution_count": null,
      "outputs": []
    },
    {
      "cell_type": "code",
      "metadata": {
        "id": "KAU2fuVtGOIe",
        "colab_type": "code",
        "colab": {}
      },
      "source": [
        "g.method.unique()"
      ],
      "execution_count": null,
      "outputs": []
    },
    {
      "cell_type": "code",
      "metadata": {
        "id": "uczo0Q6MMl4f",
        "colab_type": "code",
        "colab": {}
      },
      "source": [
        "h = dfwn.copy()"
      ],
      "execution_count": null,
      "outputs": []
    },
    {
      "cell_type": "code",
      "metadata": {
        "id": "iTU4LH-oJ_zJ",
        "colab_type": "code",
        "colab": {}
      },
      "source": [
        "s = 'Radial Velocity'"
      ],
      "execution_count": null,
      "outputs": []
    },
    {
      "cell_type": "code",
      "metadata": {
        "id": "D_wRQwMKMpzp",
        "colab_type": "code",
        "colab": {}
      },
      "source": [
        "''.join([x[0] for x in s.split(\" \")])"
      ],
      "execution_count": null,
      "outputs": []
    },
    {
      "cell_type": "code",
      "metadata": {
        "id": "3nBvLIr7My8k",
        "colab_type": "code",
        "colab": {}
      },
      "source": [
        "short_name = {}"
      ],
      "execution_count": null,
      "outputs": []
    },
    {
      "cell_type": "code",
      "metadata": {
        "id": "PIKJo2FANbgs",
        "colab_type": "code",
        "colab": {}
      },
      "source": [
        "for s in h.method.unique():\n",
        "  short_name[s]=''.join([x[0] for x in s.split(\" \")])"
      ],
      "execution_count": null,
      "outputs": []
    },
    {
      "cell_type": "code",
      "metadata": {
        "id": "k8PsNLi3NtiE",
        "colab_type": "code",
        "colab": {}
      },
      "source": [
        "short_name"
      ],
      "execution_count": null,
      "outputs": []
    },
    {
      "cell_type": "code",
      "metadata": {
        "id": "rcQYAcJ8IktM",
        "colab_type": "code",
        "colab": {}
      },
      "source": [
        "def shorten(s):\n",
        "  return short_name.get(s,s)"
      ],
      "execution_count": null,
      "outputs": []
    },
    {
      "cell_type": "code",
      "metadata": {
        "id": "XCQLbZgmG45x",
        "colab_type": "code",
        "colab": {}
      },
      "source": [
        "h['s_method'] = h['method'].apply(shorten)"
      ],
      "execution_count": null,
      "outputs": []
    },
    {
      "cell_type": "code",
      "metadata": {
        "id": "cXfLde9JLkCP",
        "colab_type": "code",
        "colab": {}
      },
      "source": [
        "h"
      ],
      "execution_count": null,
      "outputs": []
    },
    {
      "cell_type": "code",
      "metadata": {
        "id": "nRip0qlMKulp",
        "colab_type": "code",
        "colab": {}
      },
      "source": [
        "group =  h.groupby('method')['method'].count()"
      ],
      "execution_count": null,
      "outputs": []
    },
    {
      "cell_type": "code",
      "metadata": {
        "id": "NSK6K72SLgcP",
        "colab_type": "code",
        "colab": {}
      },
      "source": [
        "group"
      ],
      "execution_count": null,
      "outputs": []
    },
    {
      "cell_type": "code",
      "metadata": {
        "id": "2pWt5rjs7z_c",
        "colab_type": "code",
        "colab": {}
      },
      "source": [
        "for i in h.columns:\n",
        "  print(h.groupby(i).count())\n"
      ],
      "execution_count": null,
      "outputs": []
    },
    {
      "cell_type": "code",
      "metadata": {
        "id": "u6O5HUNuuuLN",
        "colab_type": "code",
        "colab": {}
      },
      "source": [
        "method = {}"
      ],
      "execution_count": null,
      "outputs": []
    },
    {
      "cell_type": "code",
      "metadata": {
        "id": "sVW-juZLtcf1",
        "colab_type": "code",
        "colab": {}
      },
      "source": [
        "for m in h.method.unique():\n",
        "  method[m] = h[h.method == m]['method'].count()\n",
        "  "
      ],
      "execution_count": null,
      "outputs": []
    },
    {
      "cell_type": "code",
      "metadata": {
        "id": "N8ThoFRltyut",
        "colab_type": "code",
        "colab": {}
      },
      "source": [
        "method"
      ],
      "execution_count": null,
      "outputs": []
    },
    {
      "cell_type": "code",
      "metadata": {
        "id": "0nw_hV-BvNeU",
        "colab_type": "code",
        "colab": {}
      },
      "source": [
        "group =  h[h.year>=2010].groupby('method')['method'].count()"
      ],
      "execution_count": null,
      "outputs": []
    },
    {
      "cell_type": "code",
      "metadata": {
        "id": "4hfJBWPkvfvu",
        "colab_type": "code",
        "colab": {}
      },
      "source": [
        "groupall =  h.groupby('method')['method'].count()"
      ],
      "execution_count": null,
      "outputs": []
    },
    {
      "cell_type": "code",
      "metadata": {
        "id": "iuvN4A2Igse5",
        "colab_type": "code",
        "colab": {
          "base_uri": "https://localhost:8080/",
          "height": 235
        },
        "outputId": "40c57acb-b04c-4418-e42f-a59a3a86140a"
      },
      "source": [
        "group/groupall"
      ],
      "execution_count": null,
      "outputs": [
        {
          "output_type": "execute_result",
          "data": {
            "text/plain": [
              "method\n",
              "Astrometry                       1.000000\n",
              "Eclipse Timing Variations        0.666667\n",
              "Imaging                          0.473684\n",
              "Microlensing                     0.565217\n",
              "Orbital Brightness Modulation    1.000000\n",
              "Pulsar Timing                    0.200000\n",
              "Pulsation Timing Variations           NaN\n",
              "Radial Velocity                  0.388788\n",
              "Transit                          0.843829\n",
              "Transit Timing Variations        1.000000\n",
              "Name: method, dtype: float64"
            ]
          },
          "metadata": {
            "tags": []
          },
          "execution_count": 150
        }
      ]
    },
    {
      "cell_type": "code",
      "metadata": {
        "id": "icZyabNuqrsz",
        "colab_type": "code",
        "colab": {}
      },
      "source": [
        ""
      ],
      "execution_count": null,
      "outputs": []
    }
  ]
}