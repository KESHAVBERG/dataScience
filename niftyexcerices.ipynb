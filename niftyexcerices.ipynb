{
  "nbformat": 4,
  "nbformat_minor": 0,
  "metadata": {
    "colab": {
      "name": "niftyexcerices.ipynb",
      "provenance": [],
      "authorship_tag": "ABX9TyN1reA/V83Cm0FUKFJHx5u7",
      "include_colab_link": true
    },
    "kernelspec": {
      "name": "python3",
      "display_name": "Python 3"
    }
  },
  "cells": [
    {
      "cell_type": "markdown",
      "metadata": {
        "id": "view-in-github",
        "colab_type": "text"
      },
      "source": [
        "<a href=\"https://colab.research.google.com/github/KESHAVBERG/relearningpandas/blob/master/niftyexcerices.ipynb\" target=\"_parent\"><img src=\"https://colab.research.google.com/assets/colab-badge.svg\" alt=\"Open In Colab\"/></a>"
      ]
    },
    {
      "cell_type": "code",
      "metadata": {
        "id": "Whux6_J2b-UI",
        "colab_type": "code",
        "colab": {}
      },
      "source": [
        "import numpy as np\n",
        "import pandas as pd\n",
        "import matplotlib.pyplot as plt\n"
      ],
      "execution_count": null,
      "outputs": []
    },
    {
      "cell_type": "code",
      "metadata": {
        "id": "1E2PPzEDgV86",
        "colab_type": "code",
        "colab": {}
      },
      "source": [
        "df = pd.read_csv('NIFTY50_2019.csv' , index_col=0)"
      ],
      "execution_count": 86,
      "outputs": []
    },
    {
      "cell_type": "code",
      "metadata": {
        "id": "LcpGvsI3gYvQ",
        "colab_type": "code",
        "colab": {}
      },
      "source": [
        "df"
      ],
      "execution_count": null,
      "outputs": []
    },
    {
      "cell_type": "code",
      "metadata": {
        "id": "BZhHN99gciYe",
        "colab_type": "code",
        "colab": {}
      },
      "source": [
        "dfonlyWithCloseing = pd.read_csv('NIFTY50_2019.csv' , index_col=0).iloc[:,3]"
      ],
      "execution_count": null,
      "outputs": []
    },
    {
      "cell_type": "code",
      "metadata": {
        "id": "Sac-aXUycvhc",
        "colab_type": "code",
        "colab": {}
      },
      "source": [
        "new_index = map(pd.Timestamp , dfonlyWithCloseing.index)"
      ],
      "execution_count": null,
      "outputs": []
    },
    {
      "cell_type": "code",
      "metadata": {
        "id": "DojZeXVnf1ho",
        "colab_type": "code",
        "colab": {}
      },
      "source": [
        "newdf = pd.Series(dfonlyWithCloseing , index = new_index)"
      ],
      "execution_count": null,
      "outputs": []
    },
    {
      "cell_type": "code",
      "metadata": {
        "id": "ejt637aBhObK",
        "colab_type": "code",
        "colab": {}
      },
      "source": [
        "newdf.rolling(\"5d\").median()"
      ],
      "execution_count": null,
      "outputs": []
    },
    {
      "cell_type": "code",
      "metadata": {
        "id": "eHXwYzyShrrB",
        "colab_type": "code",
        "colab": {}
      },
      "source": [
        "newdf.rolling(\"5d\").std()"
      ],
      "execution_count": null,
      "outputs": []
    },
    {
      "cell_type": "code",
      "metadata": {
        "id": "9o_R4ENrmPLv",
        "colab_type": "code",
        "colab": {}
      },
      "source": [
        " newdf.index = pd.to_datetime(newdf.index.values.astype('datetime64[M]'))\n"
      ],
      "execution_count": 113,
      "outputs": []
    },
    {
      "cell_type": "code",
      "metadata": {
        "id": "0DkzP2Q_melO",
        "colab_type": "code",
        "colab": {
          "base_uri": "https://localhost:8080/",
          "height": 34
        },
        "outputId": "1d387b19-fc99-44b9-f67c-518ab64525a3"
      },
      "source": [
        "type(M)"
      ],
      "execution_count": 114,
      "outputs": [
        {
          "output_type": "execute_result",
          "data": {
            "text/plain": [
              "pandas.core.indexes.datetimes.DatetimeIndex"
            ]
          },
          "metadata": {
            "tags": []
          },
          "execution_count": 114
        }
      ]
    },
    {
      "cell_type": "code",
      "metadata": {
        "id": "xepNd2cjorT3",
        "colab_type": "code",
        "colab": {
          "base_uri": "https://localhost:8080/",
          "height": 153
        },
        "outputId": "096618a5-8ab5-45d6-df38-9b08fe7874e9"
      },
      "source": [
        "newdf.index"
      ],
      "execution_count": 118,
      "outputs": [
        {
          "output_type": "execute_result",
          "data": {
            "text/plain": [
              "DatetimeIndex(['2019-12-01', '2019-12-01', '2019-12-01', '2019-12-01',\n",
              "               '2019-12-01', '2019-12-01', '2019-12-01', '2019-12-01',\n",
              "               '2019-12-01', '2019-12-01',\n",
              "               ...\n",
              "               '2019-01-01', '2019-01-01', '2019-01-01', '2019-01-01',\n",
              "               '2019-01-01', '2019-01-01', '2019-01-01', '2019-01-01',\n",
              "               '2019-01-01', '2019-01-01'],\n",
              "              dtype='datetime64[ns]', length=245, freq=None)"
            ]
          },
          "metadata": {
            "tags": []
          },
          "execution_count": 118
        }
      ]
    },
    {
      "cell_type": "code",
      "metadata": {
        "id": "VUucj46zo_9l",
        "colab_type": "code",
        "colab": {
          "base_uri": "https://localhost:8080/",
          "height": 34
        },
        "outputId": "f5ddc200-f8b4-4ac2-86b4-877cf79b431a"
      },
      "source": [
        "len(df[df['High']>df['Low']]['High'])"
      ],
      "execution_count": 141,
      "outputs": [
        {
          "output_type": "execute_result",
          "data": {
            "text/plain": [
              "245"
            ]
          },
          "metadata": {
            "tags": []
          },
          "execution_count": 141
        }
      ]
    },
    {
      "cell_type": "code",
      "metadata": {
        "id": "EyOvRdAEsNsz",
        "colab_type": "code",
        "colab": {}
      },
      "source": [
        ""
      ],
      "execution_count": null,
      "outputs": []
    }
  ]
}